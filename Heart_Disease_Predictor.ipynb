{
  "nbformat": 4,
  "nbformat_minor": 0,
  "metadata": {
    "colab": {
      "name": "Heart-Disease-Predictor.ipynb",
      "provenance": [],
      "authorship_tag": "ABX9TyPEKKpjdc4IRnZrsRBuOE8c",
      "include_colab_link": true
    },
    "kernelspec": {
      "name": "python3",
      "display_name": "Python 3"
    },
    "language_info": {
      "name": "python"
    }
  },
  "cells": [
    {
      "cell_type": "markdown",
      "metadata": {
        "id": "view-in-github",
        "colab_type": "text"
      },
      "source": [
        "<a href=\"https://colab.research.google.com/github/hemanth12reddy/Heart-Disease-Predictor/blob/main/Heart_Disease_Predictor.ipynb\" target=\"_parent\"><img src=\"https://colab.research.google.com/assets/colab-badge.svg\" alt=\"Open In Colab\"/></a>"
      ]
    },
    {
      "cell_type": "code",
      "execution_count": 1,
      "metadata": {
        "id": "9ZiFhLbO2XeP"
      },
      "outputs": [],
      "source": [
        "#preparing the tools\n",
        "import pandas as pd\n",
        "import numpy as np\n",
        "import matplotlib.pyplot as plt\n",
        "import seaborn as sns\n",
        "\n",
        "%matplotlib inline #we want our plots inside the notebook\n",
        "\n",
        "#models from Scikit-Learn\n",
        "from sklearn.linear_model import LogisticRegression\n",
        "from sklearn.neighbours import KNeighboursClassifier\n",
        "from sklearn.ensemble import RandomForestClassifier\n",
        "\n",
        "#model evaluations\n",
        "from sklearn.model_selection import train_test_split, cross_val_score\n",
        "from sklearn.model_selection import RandomizedSearchCV, GridSearchCV\n",
        "form sklearn.metrics import confusion_matrix, classification_report\n",
        "form sklearn.metrics import precision_score, recall_score, f1_score\n",
        "form sklearn.metrics import plot_roc_curve"
      ]
    },
    {
      "cell_type": "code",
      "source": [
        ""
      ],
      "metadata": {
        "id": "mCCk7zugruxO"
      },
      "execution_count": null,
      "outputs": []
    }
  ]
}